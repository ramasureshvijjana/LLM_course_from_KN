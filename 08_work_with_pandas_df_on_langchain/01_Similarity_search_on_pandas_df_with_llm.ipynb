{
 "cells": [
  {
   "cell_type": "markdown",
   "metadata": {
    "vscode": {
     "languageId": "plaintext"
    }
   },
   "source": [
    "# Similarity search on pandas DataFrame text column using LLMs"
   ]
  },
  {
   "cell_type": "markdown",
   "metadata": {
    "vscode": {
     "languageId": "plaintext"
    }
   },
   "source": [
    "**Steps:**\n",
    "1. Load CSV file using pandas.  \n",
    "2. Apply embedding on the text column.  \n",
    "3. Create a Euclidean Flat Indexer with Faiss.  \n",
    "4. Retrieve similar rows from the pandas DataFrame based on the query.  \n",
    "\n",
    "**Substeps of Step 4:** \n",
    "1. Take the input query.  \n",
    "2. Embed the input query.  \n",
    "3. Perform a similarity search on the Euclidean Flat Indexer and get the similar indexes.  \n",
    "4. Retrieve the matched rows from the pandas DataFrame based on the query.  "
   ]
  },
  {
   "cell_type": "markdown",
   "metadata": {},
   "source": [
    "![alt text](../images/pandasRagf.png)"
   ]
  },
  {
   "cell_type": "code",
   "execution_count": null,
   "metadata": {
    "vscode": {
     "languageId": "plaintext"
    }
   },
   "outputs": [],
   "source": []
  }
 ],
 "metadata": {
  "language_info": {
   "name": "python"
  }
 },
 "nbformat": 4,
 "nbformat_minor": 2
}
