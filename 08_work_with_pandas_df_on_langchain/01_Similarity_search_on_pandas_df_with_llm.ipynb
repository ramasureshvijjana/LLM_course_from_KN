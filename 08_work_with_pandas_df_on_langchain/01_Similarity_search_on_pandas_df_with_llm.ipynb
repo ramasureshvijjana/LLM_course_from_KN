{
 "cells": [
  {
   "cell_type": "markdown",
   "metadata": {
    "vscode": {
     "languageId": "plaintext"
    }
   },
   "source": [
    "# Similarity search on pandas DataFrame text column using LLMs"
   ]
  },
  {
   "cell_type": "markdown",
   "metadata": {
    "vscode": {
     "languageId": "plaintext"
    }
   },
   "source": [
    "**Steps:**\n",
    "1. Load CSV file using pandas.  \n",
    "2. Apply embedding on the text column.  \n",
    "3. Create a Euclidean Flat Indexer with Faiss.  \n",
    "4. Retrieve similar rows from the pandas DataFrame based on the query.  \n",
    "\n",
    "**Substeps of Step 4:** \n",
    "1. Take the input query.  \n",
    "2. Embed the input query.  \n",
    "3. Perform a similarity search on the Euclidean Flat Indexer and get the similar indexes.  \n",
    "4. Retrieve the matched rows from the pandas DataFrame based on the query.  "
   ]
  },
  {
   "cell_type": "markdown",
   "metadata": {},
   "source": [
    "![alt text](../images/pandasRagf.png)"
   ]
  },
  {
   "cell_type": "markdown",
   "metadata": {},
   "source": [
    "* IndexFlatL2 is used for computing nearest neighbors based on the L2 distance (Euclidean distance).  \n",
    "* faiss.IndexFlatL2 is a simple, brute-force index implementation\n",
    "\n",
    "\n",
    "### Key Features of faiss.IndexFlatL2:\n",
    "1. **Flat Index:** All vectors are stored in memory in their original form. It does not use any advanced data structures like trees or hash tables to organize vectors.\n",
    "2. **Exact Search:** The search is exhaustive, meaning it calculates the L2 distance between the query vector and all vectors in the dataset to find the nearest neighbors.\n",
    "3. **Euclidean Distance:** It uses the squared L2 norm to measure distances. Squared L2 distances are computed for efficiency since the square root step is omitted.  \n",
    "\n",
    "### How it Works Internally\n",
    "1. **Initialization:**\n",
    "\n",
    "    * When you create an IndexFlatL2 object, it initializes an empty container to hold the vectors you want to index.\n",
    "        \n",
    "        ```python\n",
    "        import faiss\n",
    "        index = faiss.IndexFlatL2(d)  # d is the dimensionality of the vectors\n",
    "        ```\n",
    "2. **Adding Vectors:**\n",
    "    * Internally, the index stores the vectors in a contiguous memory block for fast access once vectors added to index.\n",
    "        \n",
    "        ```python\n",
    "        index.add(vectors) \n",
    "        ```\n",
    "3. **Search Process:**\n",
    "\n",
    "    * When you query the index using the search method, the index computes the squared L2 distance between the query vector(s) and every vector in the dataset.\n",
    "    * The distances are computed in parallel for efficiency, taking advantage of modern CPU/GPU architectures.  \n",
    "\n",
    "        ```python\n",
    "        distances, indices = index.search(query_vectors, k)\n",
    "        ```\n",
    "\n",
    "    * k specifies the number of nearest neighbors to retrieve.\n",
    "    * distances contains the squared L2 distances of the nearest neighbors.\n",
    "    * indices contains the indices of the nearest neighbors\n",
    "\n",
    "4. **Distance Calculation:** \n",
    "    * For a query vector 𝑞 and a dataset vector 𝑥, the squared L2 distance is computed as:\n",
    "    $$\n",
    "    \\|q - x\\|^2 = \\sum_{i=1}^d (q_i - x_i)^2\n",
    "    $$\n",
    "\n",
    "\n",
    "5. **Brute-Force Nature:**\n",
    "\n",
    "    * Every query vector is compared with all the dataset vectors. This ensures exact results but can be computationally expensive for large datasets.\n",
    "    * It is suitable for smaller datasets or as a baseline for comparison with other indices (e.g., approximate methods like IndexIVFFlat)."
   ]
  },
  {
   "cell_type": "code",
   "execution_count": 1,
   "metadata": {},
   "outputs": [
    {
     "name": "stderr",
     "output_type": "stream",
     "text": [
      "e:\\Gen_AI\\LLM_course_from_KN\\Langchain_3.10\\lib\\site-packages\\tqdm\\auto.py:21: TqdmWarning: IProgress not found. Please update jupyter and ipywidgets. See https://ipywidgets.readthedocs.io/en/stable/user_install.html\n",
      "  from .autonotebook import tqdm as notebook_tqdm\n"
     ]
    }
   ],
   "source": [
    "import faiss\n",
    "import numpy as np\n",
    "import pandas as pd\n",
    "from sentence_transformers import SentenceTransformer"
   ]
  },
  {
   "cell_type": "markdown",
   "metadata": {},
   "source": [
    "## Load CSV File Using Pandas."
   ]
  },
  {
   "cell_type": "code",
   "execution_count": 2,
   "metadata": {},
   "outputs": [
    {
     "data": {
      "text/html": [
       "<div>\n",
       "<style scoped>\n",
       "    .dataframe tbody tr th:only-of-type {\n",
       "        vertical-align: middle;\n",
       "    }\n",
       "\n",
       "    .dataframe tbody tr th {\n",
       "        vertical-align: top;\n",
       "    }\n",
       "\n",
       "    .dataframe thead th {\n",
       "        text-align: right;\n",
       "    }\n",
       "</style>\n",
       "<table border=\"1\" class=\"dataframe\">\n",
       "  <thead>\n",
       "    <tr style=\"text-align: right;\">\n",
       "      <th></th>\n",
       "      <th>text</th>\n",
       "      <th>category</th>\n",
       "    </tr>\n",
       "  </thead>\n",
       "  <tbody>\n",
       "    <tr>\n",
       "      <th>0</th>\n",
       "      <td>Meditation and yoga can improve mental health</td>\n",
       "      <td>Health</td>\n",
       "    </tr>\n",
       "    <tr>\n",
       "      <th>1</th>\n",
       "      <td>Fruits, whole grains and vegetables helps cont...</td>\n",
       "      <td>Health</td>\n",
       "    </tr>\n",
       "    <tr>\n",
       "      <th>2</th>\n",
       "      <td>These are the latest fashion trends for this week</td>\n",
       "      <td>Fashion</td>\n",
       "    </tr>\n",
       "    <tr>\n",
       "      <th>3</th>\n",
       "      <td>Vibrant color jeans for male are becoming a trend</td>\n",
       "      <td>Fashion</td>\n",
       "    </tr>\n",
       "    <tr>\n",
       "      <th>4</th>\n",
       "      <td>The concert starts at 7 PM tonight</td>\n",
       "      <td>Event</td>\n",
       "    </tr>\n",
       "    <tr>\n",
       "      <th>5</th>\n",
       "      <td>Navaratri dandiya program at Expo center in Mu...</td>\n",
       "      <td>Event</td>\n",
       "    </tr>\n",
       "    <tr>\n",
       "      <th>6</th>\n",
       "      <td>Exciting vacation destinations for your next trip</td>\n",
       "      <td>Travel</td>\n",
       "    </tr>\n",
       "    <tr>\n",
       "      <th>7</th>\n",
       "      <td>Maldives and Srilanka are gaining popularity i...</td>\n",
       "      <td>Travel</td>\n",
       "    </tr>\n",
       "  </tbody>\n",
       "</table>\n",
       "</div>"
      ],
      "text/plain": [
       "                                                text category\n",
       "0      Meditation and yoga can improve mental health   Health\n",
       "1  Fruits, whole grains and vegetables helps cont...   Health\n",
       "2  These are the latest fashion trends for this week  Fashion\n",
       "3  Vibrant color jeans for male are becoming a trend  Fashion\n",
       "4                 The concert starts at 7 PM tonight    Event\n",
       "5  Navaratri dandiya program at Expo center in Mu...    Event\n",
       "6  Exciting vacation destinations for your next trip   Travel\n",
       "7  Maldives and Srilanka are gaining popularity i...   Travel"
      ]
     },
     "metadata": {},
     "output_type": "display_data"
    }
   ],
   "source": [
    "data = pd.read_csv('../data/sample_text.csv')\n",
    "display(data)"
   ]
  },
  {
   "cell_type": "markdown",
   "metadata": {},
   "source": [
    "## Apply Embedding on the Text Column:"
   ]
  },
  {
   "cell_type": "code",
   "execution_count": 3,
   "metadata": {},
   "outputs": [
    {
     "name": "stdout",
     "output_type": "stream",
     "text": [
      "The dimention of text_vectors is : (8, 768)\n",
      "The dimention of each vector in text_vectors : 768\n"
     ]
    }
   ],
   "source": [
    "embedder = SentenceTransformer(\"all-mpnet-base-v2\")\n",
    "text_vectors = embedder.encode(data.text)\n",
    "\n",
    "print(f\"\"\"The dimention of text_vectors is : {text_vectors.shape}\n",
    "The dimention of each vector in text_vectors : {text_vectors.shape[1]}\"\"\")"
   ]
  },
  {
   "cell_type": "markdown",
   "metadata": {},
   "source": [
    "## Create a Euclidean Flat Indexer with Faiss:"
   ]
  },
  {
   "cell_type": "code",
   "execution_count": 4,
   "metadata": {},
   "outputs": [],
   "source": [
    "vector_dim = text_vectors.shape[1]\n",
    "vector_indexer = faiss.IndexFlatL2(vector_dim)\n",
    "vector_indexer.add(text_vectors)"
   ]
  },
  {
   "cell_type": "markdown",
   "metadata": {},
   "source": [
    "## Retrieve similar rows from the pandas DataFrame based on the query"
   ]
  },
  {
   "cell_type": "code",
   "execution_count": 5,
   "metadata": {},
   "outputs": [
    {
     "name": "stdout",
     "output_type": "stream",
     "text": [
      "vector distace: [[1.2629726 1.4028323]] \n",
      "matched index numbers: [[2 3]]\n"
     ]
    }
   ],
   "source": [
    "query = \"I wanna to by a shirt\"\n",
    "\n",
    "query_vector = embedder.encode(query)\n",
    "reshaped_query_vector = np.array(query_vector).reshape(1,-1)\n",
    "distace, idx_num = vector_indexer.search(reshaped_query_vector, k =2)\n",
    "\n",
    "print(f\"vector distace: {distace} \\nmatched index numbers: {idx_num}\")"
   ]
  },
  {
   "cell_type": "code",
   "execution_count": 6,
   "metadata": {},
   "outputs": [
    {
     "name": "stdout",
     "output_type": "stream",
     "text": [
      "<class 'numpy.ndarray'> [[2 3]]\n",
      "[[2, 3]]\n"
     ]
    },
    {
     "data": {
      "text/html": [
       "<div>\n",
       "<style scoped>\n",
       "    .dataframe tbody tr th:only-of-type {\n",
       "        vertical-align: middle;\n",
       "    }\n",
       "\n",
       "    .dataframe tbody tr th {\n",
       "        vertical-align: top;\n",
       "    }\n",
       "\n",
       "    .dataframe thead th {\n",
       "        text-align: right;\n",
       "    }\n",
       "</style>\n",
       "<table border=\"1\" class=\"dataframe\">\n",
       "  <thead>\n",
       "    <tr style=\"text-align: right;\">\n",
       "      <th></th>\n",
       "      <th>text</th>\n",
       "      <th>category</th>\n",
       "    </tr>\n",
       "  </thead>\n",
       "  <tbody>\n",
       "    <tr>\n",
       "      <th>2</th>\n",
       "      <td>These are the latest fashion trends for this week</td>\n",
       "      <td>Fashion</td>\n",
       "    </tr>\n",
       "    <tr>\n",
       "      <th>3</th>\n",
       "      <td>Vibrant color jeans for male are becoming a trend</td>\n",
       "      <td>Fashion</td>\n",
       "    </tr>\n",
       "  </tbody>\n",
       "</table>\n",
       "</div>"
      ],
      "text/plain": [
       "                                                text category\n",
       "2  These are the latest fashion trends for this week  Fashion\n",
       "3  Vibrant color jeans for male are becoming a trend  Fashion"
      ]
     },
     "execution_count": 6,
     "metadata": {},
     "output_type": "execute_result"
    }
   ],
   "source": [
    "print(type(idx_num), idx_num)\n",
    "idx_num = idx_num.tolist()\n",
    "print(idx_num)\n",
    "\n",
    "data.loc[idx_num[0]]"
   ]
  }
 ],
 "metadata": {
  "kernelspec": {
   "display_name": "Langchain_3.10",
   "language": "python",
   "name": "python3"
  },
  "language_info": {
   "codemirror_mode": {
    "name": "ipython",
    "version": 3
   },
   "file_extension": ".py",
   "mimetype": "text/x-python",
   "name": "python",
   "nbconvert_exporter": "python",
   "pygments_lexer": "ipython3",
   "version": "3.10.0"
  }
 },
 "nbformat": 4,
 "nbformat_minor": 2
}
