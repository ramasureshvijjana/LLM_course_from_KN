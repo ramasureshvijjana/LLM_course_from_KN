{
 "cells": [
  {
   "cell_type": "markdown",
   "metadata": {
    "vscode": {
     "languageId": "plaintext"
    }
   },
   "source": [
    "# Create Chat Message History"
   ]
  },
  {
   "cell_type": "markdown",
   "metadata": {
    "vscode": {
     "languageId": "plaintext"
    }
   },
   "source": [
    "### Topics:\n",
    "1. Loading environment variables.\n",
    "2. Load a model with Groq tool.\n",
    "3. Running a Hardcoded Prompt for Demonstration.\n",
    "4. Building a Chatbot with Message History with a Specific Session."
   ]
  },
  {
   "cell_type": "code",
   "execution_count": 2,
   "metadata": {},
   "outputs": [],
   "source": [
    "import os\n",
    "from dotenv import load_dotenv\n",
    "load_dotenv()\n",
    "\n",
    "groq_api_key = os.getenv(\"GROQ_API_KEY\")"
   ]
  },
  {
   "cell_type": "code",
   "execution_count": 2,
   "metadata": {},
   "outputs": [
    {
     "data": {
      "text/plain": [
       "ChatGroq(client=<groq.resources.chat.completions.Completions object at 0x000002751690E320>, async_client=<groq.resources.chat.completions.AsyncCompletions object at 0x000002751692C550>, model_name='Gemma2-9b-It', model_kwargs={}, groq_api_key=SecretStr('**********'))"
      ]
     },
     "execution_count": 2,
     "metadata": {},
     "output_type": "execute_result"
    }
   ],
   "source": [
    "from langchain_groq import ChatGroq\n",
    "\n",
    "model = ChatGroq(model=\"Gemma2-9b-It\", groq_api_key=groq_api_key)\n",
    "model"
   ]
  },
  {
   "cell_type": "code",
   "execution_count": 3,
   "metadata": {},
   "outputs": [
    {
     "name": "stdout",
     "output_type": "stream",
     "text": [
      "Your name is Rama Suresh.  You told me at the beginning of our conversation! 😊  Is there anything else I can help you with?\n",
      "\n"
     ]
    }
   ],
   "source": [
    "from langchain_core.messages import HumanMessage, AIMessage\n",
    "from langchain_core.output_parsers import StrOutputParser\n",
    "\n",
    "hard_code_prompt = [HumanMessage(content=\"Hi, This is rama suresh and I am a AI engineer.\"),\n",
    "                    AIMessage(content=\"Hi Rama Suresh, it's nice to meet you!\\n\\nI'm glad to know you're an AI engineer. That's a fascinating field.  \\n\\nIs there anything I can help you with today? Perhaps you have a question about AI, or you'd like to discuss a project you're working on? I'm here to listen and assist in any way I can.\\n\"),\n",
    "                    HumanMessage(content=\"What is my name?\")]\n",
    "\n",
    "result = model.invoke(hard_code_prompt)\n",
    "\n",
    "output = StrOutputParser().invoke(result)\n",
    "print(output)"
   ]
  },
  {
   "cell_type": "code",
   "execution_count": null,
   "metadata": {},
   "outputs": [
    {
     "data": {
      "text/plain": [
       "AIMessage(content=\"Hello Rama Suresh, it's nice to meet you!\\n\\nAs an AI, I don't have personal experiences or feelings, but I'm always eager to learn and chat with people in the field of AI.\\n\\nWhat can I do for you today? Are you working on any interesting projects?\\n\", additional_kwargs={}, response_metadata={'token_usage': {'completion_tokens': 65, 'prompt_tokens': 23, 'total_tokens': 88, 'completion_time': 0.118181818, 'prompt_time': 0.000167479, 'queue_time': 0.025486909, 'total_time': 0.118349297}, 'model_name': 'Gemma2-9b-It', 'system_fingerprint': 'fp_10c08bf97d', 'finish_reason': 'stop', 'logprobs': None}, id='run-08da2785-837c-4b22-b61a-1ff855177540-0', usage_metadata={'input_tokens': 23, 'output_tokens': 65, 'total_tokens': 88})"
      ]
     },
     "execution_count": 6,
     "metadata": {},
     "output_type": "execute_result"
    }
   ],
   "source": [
    "from langchain_community.chat_message_histories import ChatMessageHistory\n",
    "from langchain_core.chat_history import BaseChatMessageHistory\n",
    "from langchain_core.runnables.history import RunnableWithMessageHistory\n",
    "\n",
    "sessions = {}\n",
    "\n",
    "def get_session(session_id:str)->BaseChatMessageHistory:\n",
    "    if session_id not in sessions:\n",
    "        sessions[session_id] = ChatMessageHistory()\n",
    "    return sessions[session_id]\n",
    "\n",
    "\n",
    "chat_message_history_model = RunnableWithMessageHistory(model, get_session)\n",
    "\n",
    "config = {'configurable':{'session_id':\"Rama01VJ1\"}}\n",
    "chat_message_history_model.invoke(\n",
    "    [HumanMessage(content=\"Hi, This is rama suresh and I am a AI engineer.\")],\n",
    "    config=config)"
   ]
  },
  {
   "cell_type": "code",
   "execution_count": null,
   "metadata": {},
   "outputs": [],
   "source": [
    "from langchain_community.chat_message_histories import ChatMessageHistory\n",
    "from langchain_core.chat_history import BaseChatMessageHistory\n",
    "from langchain_core.runnables.history import RunnableWithMessageHistory\n",
    "\n",
    "# Dictionary to store chat sessions using session IDs as keys\n",
    "sessions = {}\n",
    "\n",
    "def get_session(session_id: str) -> BaseChatMessageHistory:\n",
    "    if session_id not in sessions:\n",
    "        sessions[session_id] = ChatMessageHistory()  # Initialize new session if not found\n",
    "    return sessions[session_id]\n",
    "\n",
    "# Ensure 'model' is defined before using it; otherwise, this will raise a NameError.\n",
    "# This wraps the model with history management to maintain chat context.\n",
    "chat_message_history_model = RunnableWithMessageHistory(model, get_session)\n",
    "\n",
    "# Configuration dictionary containing the session ID\n",
    "config = {'configurable': {'session_id': \"Rama01VJ1\"}}\n",
    "\n",
    "# Invokes the model with a user message while maintaining session history\n",
    "chat_message_history_model.invoke(\n",
    "    [HumanMessage(content=\"Hi, This is Rama Suresh and I am an AI engineer.\")],\n",
    "    config=config\n",
    ")"
   ]
  }
 ],
 "metadata": {
  "kernelspec": {
   "display_name": "Python 3",
   "language": "python",
   "name": "python3"
  },
  "language_info": {
   "codemirror_mode": {
    "name": "ipython",
    "version": 3
   },
   "file_extension": ".py",
   "mimetype": "text/x-python",
   "name": "python",
   "nbconvert_exporter": "python",
   "pygments_lexer": "ipython3",
   "version": "3.10.0"
  }
 },
 "nbformat": 4,
 "nbformat_minor": 2
}
