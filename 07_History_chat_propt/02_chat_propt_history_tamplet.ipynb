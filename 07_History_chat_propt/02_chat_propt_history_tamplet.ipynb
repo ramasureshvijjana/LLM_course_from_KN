{
 "cells": [
  {
   "cell_type": "markdown",
   "metadata": {
    "vscode": {
     "languageId": "plaintext"
    }
   },
   "source": [
    "# Chat Prompt History Tamplet\n",
    "1. Creating chat prompt templet\n",
    "2. How to pass the message to ChatProptTamplet\n",
    "3. Run history chat on ChatProptTamplet\n",
    "4. Do all the above tasks with multiple parameters.\n",
    "## 1. Creating Chat Prompt Templet"
   ]
  },
  {
   "cell_type": "code",
   "execution_count": 13,
   "metadata": {},
   "outputs": [],
   "source": [
    "from langchain_core.prompts import ChatMessagePromptTemplate\n",
    "from langchain_community.chat_message_histories import  ChatMessageHistory\n",
    "from langchain_core.chat_history import BaseChatMessageHistory\n",
    "from langchain_core.runnables.history import RunnableWithMessageHistory"
   ]
  },
  {
   "cell_type": "code",
   "execution_count": 14,
   "metadata": {},
   "outputs": [],
   "source": [
    "all_sessions = dict()\n",
    "\n",
    "def get_session(session_id:str) -> BaseChatMessageHistory:\n",
    "    if session_id not in all_sessions:\n",
    "        all_sessions[session_id] = ChatMessageHistory()\n",
    "         \n",
    "    return all_sessions[session_id]"
   ]
  },
  {
   "cell_type": "code",
   "execution_count": 15,
   "metadata": {},
   "outputs": [
    {
     "name": "stdout",
     "output_type": "stream",
     "text": [
      "client=<groq.resources.chat.completions.Completions object at 0x000002559CAEBD60> async_client=<groq.resources.chat.completions.AsyncCompletions object at 0x000002559CAEB640> model_name='Gemma2-9b-It' model_kwargs={} groq_api_key=SecretStr('**********')\n"
     ]
    }
   ],
   "source": [
    "import os\n",
    "from dotenv import load_dotenv\n",
    "load_dotenv()\n",
    "from langchain_groq import ChatGroq\n",
    "\n",
    "groq_api_key = os.getenv('GROQ_API_KEY')\n",
    "\n",
    "model = ChatGroq(model=\"Gemma2-9b-It\", api_key = groq_api_key)\n",
    "print(model)"
   ]
  },
  {
   "cell_type": "code",
   "execution_count": null,
   "metadata": {},
   "outputs": [
    {
     "name": "stdout",
     "output_type": "stream",
     "text": [
      "content=\"Hello! Here's the translation:\\n\\n* **Hi**  - హాయ్ \\n* **How are you?** - మీరు ఎలా ఉన్నారు? (mee ru ela unnaru?) - This is a formal way to ask.\\n\\n**Informal:**\\n\\n* **Hi** - హాయ్ \\n* **How are you?** - ఎలా ఉన్నావు? (ela unnaavu?) \\n\\n\\n\\nLet me know if you have any other phrases you'd like translated! \\n\" additional_kwargs={} response_metadata={'token_usage': {'completion_tokens': 108, 'prompt_tokens': 28, 'total_tokens': 136, 'completion_time': 0.196363636, 'prompt_time': 0.002157926, 'queue_time': 0.234434022, 'total_time': 0.198521562}, 'model_name': 'Gemma2-9b-It', 'system_fingerprint': 'fp_10c08bf97d', 'finish_reason': 'stop', 'logprobs': None} id='run-1884eacc-07f5-4561-a03d-372e8d5562ed-0' usage_metadata={'input_tokens': 28, 'output_tokens': 108, 'total_tokens': 136}\n"
     ]
    }
   ],
   "source": [
    "from langchain_core.prompts import ChatPromptTemplate, MessagesPlaceholder\n",
    "from langchain_core.messages import HumanMessage, SystemMessage, AIMessage\n",
    "\n",
    "config = {'configurable':{'session_id':\"Rama01VJ1\"}}\n",
    "\n",
    "base_propt = ChatPromptTemplate.from_messages(\n",
    "    [('system', 'Please convert the given text from english language to telugu language.'),\n",
    "     MessagesPlaceholder(variable_name='current_prompt')\n",
    "     ]\n",
    ")\n",
    "\n",
    "chain = base_propt|model\n",
    "\n",
    "runnable_chain = RunnableWithMessageHistory(chain, get_session)\n",
    "\n",
    "result = runnable_chain.invoke([HumanMessage(content='Hi, How are you?')],\n",
    "                      config = config)\n",
    "\n",
    "print(result)"
   ]
  },
  {
   "cell_type": "code",
   "execution_count": 23,
   "metadata": {},
   "outputs": [],
   "source": [
    "propt_test_result = chain.invoke({'current_prompt' : [HumanMessage(content='Hi, I am in my village.')]})"
   ]
  },
  {
   "cell_type": "code",
   "execution_count": 24,
   "metadata": {},
   "outputs": [
    {
     "data": {
      "text/plain": [
       "AIMessage(content='హాయ్, నేను నా గ్రామంలో ఉన్నాను. \\n', additional_kwargs={}, response_metadata={'token_usage': {'completion_tokens': 20, 'prompt_tokens': 30, 'total_tokens': 50, 'completion_time': 0.036363636, 'prompt_time': 0.002207686, 'queue_time': 0.23420436200000003, 'total_time': 0.038571322}, 'model_name': 'Gemma2-9b-It', 'system_fingerprint': 'fp_10c08bf97d', 'finish_reason': 'stop', 'logprobs': None}, id='run-4e5023c4-3988-4ff0-886b-625d76554b84-0', usage_metadata={'input_tokens': 30, 'output_tokens': 20, 'total_tokens': 50})"
      ]
     },
     "execution_count": 24,
     "metadata": {},
     "output_type": "execute_result"
    }
   ],
   "source": [
    "propt_test_result"
   ]
  },
  {
   "cell_type": "code",
   "execution_count": 27,
   "metadata": {},
   "outputs": [
    {
     "name": "stdout",
     "output_type": "stream",
     "text": [
      "content='Here are a few ways to say \"Hi, How are you?\" in Telugu:\\n\\n**Formal:**\\n\\n*  మీరు ఎలా ఉన్నారు? (mīru elā unnaru?) \\n\\n**Informal:**\\n\\n* ఎలా ఉన్నావు? (elā unnaavu?) \\n* హాయ్, ఎలాంటి వాళ్ళు? (hay, elāntī vallu?) - A more casual way, similar to \"How\\'s it going?\".\\n\\nChoose the option that best suits the context and your relationship with the person you\\'re talking to. 😊 \\n\\n\\n' additional_kwargs={} response_metadata={'token_usage': {'completion_tokens': 129, 'prompt_tokens': 150, 'total_tokens': 279, 'completion_time': 0.234545455, 'prompt_time': 0.006005528, 'queue_time': 0.239298228, 'total_time': 0.240550983}, 'model_name': 'Gemma2-9b-It', 'system_fingerprint': 'fp_10c08bf97d', 'finish_reason': 'stop', 'logprobs': None} id='run-7fd391a3-07b2-490f-9e4e-098db13fa130-0' usage_metadata={'input_tokens': 150, 'output_tokens': 129, 'total_tokens': 279}\n"
     ]
    }
   ],
   "source": [
    "from langchain_core.prompts import ChatPromptTemplate, MessagesPlaceholder\n",
    "from langchain_core.messages import HumanMessage, SystemMessage, AIMessage\n",
    "\n",
    "config = {'configurable':{'session_id':\"Rama01VJ1\"}}\n",
    "\n",
    "base_propt = ChatPromptTemplate.from_messages(\n",
    "    [('system', 'Please convert the given text from english language to telugu language.'),\n",
    "     MessagesPlaceholder(variable_name='current_prompt')\n",
    "     ]\n",
    ")\n",
    "\n",
    "chain = base_propt|model\n",
    "\n",
    "runnable_chain = RunnableWithMessageHistory(chain, get_session, input_messages_key='current_prompt')\n",
    "\n",
    "result = runnable_chain.invoke({\"current_prompt\" : [HumanMessage(content='Hi, How are you?')]},\n",
    "                      config = config)\n",
    "\n",
    "print(result)"
   ]
  },
  {
   "cell_type": "code",
   "execution_count": 28,
   "metadata": {},
   "outputs": [
    {
     "name": "stdout",
     "output_type": "stream",
     "text": [
      "content='Here\\'s a breakdown of how to say \"Hi, how are you?\" in Telugu, with options for different levels of formality:\\n\\n**Formal:**\\n\\n* **మీరు ఎలా ఉన్నారు?** (mīru elā unnaru?)  - This is the most polite and respectful way to ask. It literally translates to \"How are you?\"\\n\\n**Informal:**\\n\\n* **ఎలా ఉన్నావు?** (elā unnaavu?) - This is a more casual way to ask, suitable for friends or family.\\n* **హాయ్, ఎలాంటి వాళ్ళు?** (hay, elāntī vallu?) - This is a very casual greeting, similar to \"What\\'s up?\".\\n\\n\\nLet me know if you\\'d like to say something else in Telugu!\\n' additional_kwargs={} response_metadata={'token_usage': {'completion_tokens': 174, 'prompt_tokens': 292, 'total_tokens': 466, 'completion_time': 0.316363636, 'prompt_time': 0.013766242, 'queue_time': 0.234787845, 'total_time': 0.330129878}, 'model_name': 'Gemma2-9b-It', 'system_fingerprint': 'fp_10c08bf97d', 'finish_reason': 'stop', 'logprobs': None} id='run-f98ab7c8-5d64-462b-80a8-75ac56817b33-0' usage_metadata={'input_tokens': 292, 'output_tokens': 174, 'total_tokens': 466}\n"
     ]
    }
   ],
   "source": [
    "from langchain_core.prompts import ChatPromptTemplate, MessagesPlaceholder\n",
    "from langchain_core.messages import HumanMessage, SystemMessage, AIMessage\n",
    "\n",
    "config = {'configurable':{'session_id':\"Rama01VJ1\"}}\n",
    "\n",
    "base_propt = ChatPromptTemplate.from_messages(\n",
    "    [('system', 'Please convert the given text from english language to {output_language} language.'),\n",
    "     MessagesPlaceholder(variable_name='current_prompt')\n",
    "     ]\n",
    ")\n",
    "\n",
    "chain = base_propt|model\n",
    "\n",
    "runnable_chain = RunnableWithMessageHistory(chain, get_session, input_messages_key='current_prompt')\n",
    "\n",
    "result = runnable_chain.invoke({\"current_prompt\" : [HumanMessage(content='Hi, How are you?')], \n",
    "                                'output_language': \"Telugu\"},\n",
    "                      config = config)\n",
    "\n",
    "print(result)"
   ]
  }
 ],
 "metadata": {
  "kernelspec": {
   "display_name": "Python 3",
   "language": "python",
   "name": "python3"
  },
  "language_info": {
   "codemirror_mode": {
    "name": "ipython",
    "version": 3
   },
   "file_extension": ".py",
   "mimetype": "text/x-python",
   "name": "python",
   "nbconvert_exporter": "python",
   "pygments_lexer": "ipython3",
   "version": "3.10.0"
  }
 },
 "nbformat": 4,
 "nbformat_minor": 2
}
