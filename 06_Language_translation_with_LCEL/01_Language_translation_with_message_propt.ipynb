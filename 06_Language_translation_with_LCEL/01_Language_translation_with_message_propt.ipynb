{
 "cells": [
  {
   "cell_type": "markdown",
   "metadata": {
    "vscode": {
     "languageId": "plaintext"
    }
   },
   "source": [
    "# Language Translation with Message Propt in LCEL Chain"
   ]
  },
  {
   "cell_type": "code",
   "execution_count": 1,
   "metadata": {},
   "outputs": [],
   "source": [
    "import os\n",
    "from dotenv import load_dotenv\n"
   ]
  },
  {
   "cell_type": "code",
   "execution_count": 2,
   "metadata": {},
   "outputs": [
    {
     "name": "stdout",
     "output_type": "stream",
     "text": [
      "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\n"
     ]
    }
   ],
   "source": [
    "load_dotenv()\n",
    "\n",
    "groq_api_key = os.getenv(\"GROQ_API_KEY\")\n",
    "print(groq_api_key)"
   ]
  },
  {
   "cell_type": "code",
   "execution_count": 3,
   "metadata": {},
   "outputs": [
    {
     "name": "stdout",
     "output_type": "stream",
     "text": [
      "[SystemMessage(content='Translate the following from English to Telugu', additional_kwargs={}, response_metadata={}), HumanMessage(content='Hello How are you?', additional_kwargs={}, response_metadata={})]\n"
     ]
    }
   ],
   "source": [
    "from langchain_core.messages import HumanMessage, SystemMessage\n",
    "\n",
    "message = [SystemMessage(content = \"Translate the following from English to Telugu\"),\n",
    "           HumanMessage(content=\"Hello How are you?\")]\n",
    "\n",
    "print(message)"
   ]
  },
  {
   "cell_type": "code",
   "execution_count": 4,
   "metadata": {},
   "outputs": [
    {
     "name": "stdout",
     "output_type": "stream",
     "text": [
      "content=\"**Hello How are you?** \\n\\nin Telugu can be translated as:\\n\\n* **హలో! మీరు ఎలా ఉన్నారు?** (halo! meeru ela unnaru?) - This is a formal and polite way to say hello and ask how someone is doing.\\n\\n* **ఎలా ఉన్నావు?** (ela unnaavu?) - This is a more casual way to ask someone how they are doing.\\n\\n\\nLet me know if you have any other phrases you'd like translated!\\n\\n\" additional_kwargs={} response_metadata={'token_usage': {'completion_tokens': 109, 'prompt_tokens': 21, 'total_tokens': 130, 'completion_time': 0.198181818, 'prompt_time': 0.00013694, 'queue_time': 0.015417097, 'total_time': 0.198318758}, 'model_name': 'Gemma2-9b-It', 'system_fingerprint': 'fp_10c08bf97d', 'finish_reason': 'stop', 'logprobs': None} id='run-0b709775-8d67-4d7a-b7f6-b49820a4e83a-0' usage_metadata={'input_tokens': 21, 'output_tokens': 109, 'total_tokens': 130}\n"
     ]
    }
   ],
   "source": [
    "from langchain_groq import ChatGroq\n",
    "\n",
    "model = ChatGroq(model=\"Gemma2-9b-It\", groq_api_key=groq_api_key)\n",
    "\n",
    "result = model.invoke(message)\n",
    "print(result)"
   ]
  },
  {
   "cell_type": "code",
   "execution_count": 5,
   "metadata": {},
   "outputs": [
    {
     "name": "stdout",
     "output_type": "stream",
     "text": [
      "**Hello How are you?** \n",
      "\n",
      "in Telugu can be translated as:\n",
      "\n",
      "* **హలో! మీరు ఎలా ఉన్నారు?** (halo! meeru ela unnaru?) - This is a formal and polite way to say hello and ask how someone is doing.\n",
      "\n",
      "* **ఎలా ఉన్నావు?** (ela unnaavu?) - This is a more casual way to ask someone how they are doing.\n",
      "\n",
      "\n",
      "Let me know if you have any other phrases you'd like translated!\n",
      "\n",
      "\n"
     ]
    }
   ],
   "source": [
    "from langchain_core.output_parsers import StrOutputParser\n",
    "parser=StrOutputParser()\n",
    "parse_data = parser.invoke(result)\n",
    "print(parse_data)"
   ]
  },
  {
   "cell_type": "code",
   "execution_count": 6,
   "metadata": {},
   "outputs": [
    {
     "name": "stdout",
     "output_type": "stream",
     "text": [
      "Hello How are you? translates to:\n",
      "\n",
      "**నమస్తే! మీరు ఎలా ఉన్నారు?** (Namaste! Meeyuru ela unnaru?)\n",
      "\n",
      "\n",
      "Let's break it down:\n",
      "\n",
      "* **నమస్తే** (Namaste) - Hello\n",
      "* **మీరు** (Meeyuru) - You\n",
      "* **ఎలా** (Ela) - How\n",
      "* **ఉన్నారు** (Unnaru) - Are\n",
      "\n",
      "This is a polite and formal way of greeting someone in Telugu. \n",
      "\n"
     ]
    }
   ],
   "source": [
    "lcel_chain = model|parser\n",
    "\n",
    "final_result = lcel_chain.invoke(message)\n",
    "print(final_result)\n",
    "\n"
   ]
  }
 ],
 "metadata": {
  "kernelspec": {
   "display_name": "Langchain_3.10",
   "language": "python",
   "name": "python3"
  },
  "language_info": {
   "codemirror_mode": {
    "name": "ipython",
    "version": 3
   },
   "file_extension": ".py",
   "mimetype": "text/x-python",
   "name": "python",
   "nbconvert_exporter": "python",
   "pygments_lexer": "ipython3",
   "version": "3.10.0"
  }
 },
 "nbformat": 4,
 "nbformat_minor": 2
}
