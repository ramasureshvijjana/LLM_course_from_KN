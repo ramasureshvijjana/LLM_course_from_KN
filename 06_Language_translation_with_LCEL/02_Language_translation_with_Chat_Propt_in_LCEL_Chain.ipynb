{
 "cells": [
  {
   "cell_type": "markdown",
   "metadata": {
    "vscode": {
     "languageId": "plaintext"
    }
   },
   "source": [
    "# Language Translation with Chat Propt in LCEL Chain"
   ]
  },
  {
   "cell_type": "code",
   "execution_count": 11,
   "metadata": {},
   "outputs": [
    {
     "data": {
      "text/plain": [
       "True"
      ]
     },
     "execution_count": 11,
     "metadata": {},
     "output_type": "execute_result"
    }
   ],
   "source": [
    "import os\n",
    "from dotenv import load_dotenv\n",
    "from langchain_core.prompts import ChatPromptTemplate\n",
    "from langchain_groq.chat_models import ChatGroq\n",
    "from langchain_core.output_parsers import StrOutputParser\n",
    "\n",
    "load_dotenv()"
   ]
  },
  {
   "cell_type": "code",
   "execution_count": 12,
   "metadata": {},
   "outputs": [],
   "source": [
    "groq_api_key = os.getenv(\"GROQ_API_KEY\")"
   ]
  },
  {
   "cell_type": "code",
   "execution_count": 13,
   "metadata": {},
   "outputs": [],
   "source": [
    "system_msg = \"Trnaslate the following into {language}:\"\n",
    "\n",
    "propt = ChatPromptTemplate([\n",
    "    (\"system\", system_msg), (\"user\",\"{text}\")\n",
    "])"
   ]
  },
  {
   "cell_type": "code",
   "execution_count": 14,
   "metadata": {},
   "outputs": [],
   "source": [
    "model = ChatGroq(model=\"Gemma2-9b-It\", api_key=groq_api_key)"
   ]
  },
  {
   "cell_type": "code",
   "execution_count": 15,
   "metadata": {},
   "outputs": [],
   "source": [
    "parser = StrOutputParser()"
   ]
  },
  {
   "cell_type": "code",
   "execution_count": 22,
   "metadata": {},
   "outputs": [
    {
     "name": "stdout",
     "output_type": "stream",
     "text": [
      "The most common way to say \"How are you?\" in Telugu is:\n",
      "\n",
      "**మీరు ఎలా ఉన్నారు?** (Mēru elā unnaru?)\n",
      "\n",
      "This is a polite and formal way to ask someone how they are doing. \n",
      "\n",
      "\n",
      "Here are some other ways to say it:\n",
      "\n",
      "* **ఏంటి మీ స్థితి?** (Ēnti mī sthithi?) - What's your condition? (More informal)\n",
      "* **కేమై ఉన్నారు?** (Kemāi unnaru?) - How are you doing? (More informal)\n",
      "\n",
      "\n",
      "\n",
      "Let me know if you have any other phrases you'd like to translate!\n",
      "\n"
     ]
    }
   ],
   "source": [
    "lcel_chain = propt|model|parser\n",
    "\n",
    "result = lcel_chain.invoke({\"language\": \"Telugu\", \"text\":\"How are You\"})\n",
    "\n",
    "print(result)"
   ]
  }
 ],
 "metadata": {
  "kernelspec": {
   "display_name": "Langchain_3.10",
   "language": "python",
   "name": "python3"
  },
  "language_info": {
   "codemirror_mode": {
    "name": "ipython",
    "version": 3
   },
   "file_extension": ".py",
   "mimetype": "text/x-python",
   "name": "python",
   "nbconvert_exporter": "python",
   "pygments_lexer": "ipython3",
   "version": "3.10.0"
  }
 },
 "nbformat": 4,
 "nbformat_minor": 2
}
